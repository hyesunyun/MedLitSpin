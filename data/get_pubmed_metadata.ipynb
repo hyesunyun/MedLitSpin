{
 "cells": [
  {
   "cell_type": "markdown",
   "metadata": {},
   "source": [
    "# Notebook for getting PubMed metadata for FactPICO abstracts\n",
    "\n",
    "**Metadata**: PMID, PMCID, title"
   ]
  },
  {
   "cell_type": "code",
   "execution_count": 91,
   "metadata": {},
   "outputs": [],
   "source": [
    "# import packages\n",
    "from Bio import Entrez, Medline\n",
    "import pandas as pd\n",
    "\n",
    "Entrez.email = \"yun.hy@northeastern.edu\""
   ]
  },
  {
   "cell_type": "code",
   "execution_count": null,
   "metadata": {},
   "outputs": [],
   "source": [
    "# read original abstract csv file\n",
    "df_abstracts = pd.read_csv('FactPico_115_abstracts.csv')\n",
    "df_abstracts.head()"
   ]
  },
  {
   "cell_type": "markdown",
   "metadata": {},
   "source": [
    "## Get PMIDs via API"
   ]
  },
  {
   "cell_type": "code",
   "execution_count": null,
   "metadata": {},
   "outputs": [],
   "source": [
    "def process_text(text):\n",
    "    # Remove leading and trailing whitespaces\n",
    "    cleaned_text = text.strip()\n",
    "    # Split the text into sections based on single newline\n",
    "    sections = cleaned_text.split('\\n')\n",
    "    # Return the second section which should be first part of abstract without headers\n",
    "    return sections[1] if sections else \"\"\n",
    "\n",
    "def get_pubmed_id_by_abstract(abstract_text):\n",
    "    shorter_abstract_text = process_text(abstract_text)\n",
    "    handle = Entrez.esearch(db=\"pubmed\", term=f'\"{shorter_abstract_text}\"', retmax=1)\n",
    "    record = Entrez.read(handle)\n",
    "    handle.close()\n",
    "    pmid = record[\"IdList\"]\n",
    "    return pmid[0] if pmid else None"
   ]
  },
  {
   "cell_type": "code",
   "execution_count": null,
   "metadata": {},
   "outputs": [],
   "source": [
    "# Apply a function row-wise for getting pmid\n",
    "df_abstracts['pmid'] = df_abstracts.apply(lambda row: get_pubmed_id_by_abstract(row['abstract']), axis=1)"
   ]
  },
  {
   "cell_type": "code",
   "execution_count": null,
   "metadata": {},
   "outputs": [],
   "source": [
    "# count how many pmid we got that is not None\n",
    "df_abstracts['pmid'].count()"
   ]
  },
  {
   "cell_type": "code",
   "execution_count": null,
   "metadata": {},
   "outputs": [],
   "source": [
    "# save the dataframe to a new csv file - the rest will be retrieved manually from pubmed\n",
    "df_abstracts.to_csv('FactPico_115_abstracts_with_pmid.csv', index=False)"
   ]
  },
  {
   "cell_type": "markdown",
   "metadata": {},
   "source": [
    "## Checking Correctness of PMIDs"
   ]
  },
  {
   "cell_type": "code",
   "execution_count": 98,
   "metadata": {},
   "outputs": [
    {
     "data": {
      "text/html": [
       "<div>\n",
       "<style scoped>\n",
       "    .dataframe tbody tr th:only-of-type {\n",
       "        vertical-align: middle;\n",
       "    }\n",
       "\n",
       "    .dataframe tbody tr th {\n",
       "        vertical-align: top;\n",
       "    }\n",
       "\n",
       "    .dataframe thead th {\n",
       "        text-align: right;\n",
       "    }\n",
       "</style>\n",
       "<table border=\"1\" class=\"dataframe\">\n",
       "  <thead>\n",
       "    <tr style=\"text-align: right;\">\n",
       "      <th></th>\n",
       "      <th>id</th>\n",
       "      <th>abstract</th>\n",
       "      <th>data_split</th>\n",
       "      <th>pmid</th>\n",
       "    </tr>\n",
       "  </thead>\n",
       "  <tbody>\n",
       "    <tr>\n",
       "      <th>0</th>\n",
       "      <td>1</td>\n",
       "      <td>ABSTRACT.BACKGROUND:\\nMetabolic syndrome is a ...</td>\n",
       "      <td>TEST</td>\n",
       "      <td>15892894</td>\n",
       "    </tr>\n",
       "    <tr>\n",
       "      <th>1</th>\n",
       "      <td>2</td>\n",
       "      <td>ABSTRACT.\\nThalassemia is the commonest single...</td>\n",
       "      <td>TEST</td>\n",
       "      <td>22131679</td>\n",
       "    </tr>\n",
       "    <tr>\n",
       "      <th>2</th>\n",
       "      <td>3</td>\n",
       "      <td>ABSTRACT.BACKGROUND:\\nNasal insufflation of CO...</td>\n",
       "      <td>TEST</td>\n",
       "      <td>23574808</td>\n",
       "    </tr>\n",
       "    <tr>\n",
       "      <th>3</th>\n",
       "      <td>4</td>\n",
       "      <td>ABSTRACT.OBJECTIVE.\\nThere are controversial f...</td>\n",
       "      <td>TEST</td>\n",
       "      <td>24665285</td>\n",
       "    </tr>\n",
       "    <tr>\n",
       "      <th>4</th>\n",
       "      <td>5</td>\n",
       "      <td>ABSTRACT.PURPOSE:\\nTo evaluate the analgesic e...</td>\n",
       "      <td>TEST</td>\n",
       "      <td>24639945</td>\n",
       "    </tr>\n",
       "  </tbody>\n",
       "</table>\n",
       "</div>"
      ],
      "text/plain": [
       "   id                                           abstract data_split      pmid\n",
       "0   1  ABSTRACT.BACKGROUND:\\nMetabolic syndrome is a ...       TEST  15892894\n",
       "1   2  ABSTRACT.\\nThalassemia is the commonest single...       TEST  22131679\n",
       "2   3  ABSTRACT.BACKGROUND:\\nNasal insufflation of CO...       TEST  23574808\n",
       "3   4  ABSTRACT.OBJECTIVE.\\nThere are controversial f...       TEST  24665285\n",
       "4   5  ABSTRACT.PURPOSE:\\nTo evaluate the analgesic e...       TEST  24639945"
      ]
     },
     "execution_count": 98,
     "metadata": {},
     "output_type": "execute_result"
    }
   ],
   "source": [
    "# read the new csv file\n",
    "df_abstracts_with_pmid = pd.read_csv('FactPico_115_abstracts_with_pmid.csv')\n",
    "df_abstracts_with_pmid.head()"
   ]
  },
  {
   "cell_type": "code",
   "execution_count": null,
   "metadata": {},
   "outputs": [],
   "source": [
    "def fetch_abstract_by_pmid(pmid=None):\n",
    "    # Fetch the article data\n",
    "    handle = Entrez.efetch(db=\"pubmed\", id=pmid, rettype=\"abstract\", retmode=\"text\")\n",
    "    data = handle.read()\n",
    "    handle.close()\n",
    "    \n",
    "    return data\n",
    "\n",
    "def compare_abstracts(df):\n",
    "    \"\"\"Compare abstracts in DataFrame with abstracts fetched via PMID\"\"\"\n",
    "    results = []\n",
    "\n",
    "    for _, row in df.iterrows():\n",
    "        pmid = row.get(\"pmid\")\n",
    "        abstract_in_df = row.get(\"abstract\")\n",
    "        \n",
    "        # Fetch the abstract using the API\n",
    "        abstract_from_api = fetch_abstract_by_pmid(pmid=pmid)\n",
    "        # Store the results\n",
    "        results.append({\n",
    "            \"pmid\": pmid,\n",
    "            \"abstract_from_api\": abstract_from_api,\n",
    "            \"abstract_in_df\": abstract_in_df\n",
    "        })\n",
    "\n",
    "    return pd.DataFrame(results)\n",
    "\n",
    "\n",
    "result_df = compare_abstracts(df_abstracts_with_pmid)\n",
    "\n",
    "result_df.to_csv('FactPico_115_abstracts_comparison.csv', index=False)"
   ]
  },
  {
   "cell_type": "markdown",
   "metadata": {},
   "source": [
    "## Get PMCIDs from PMIDs via API"
   ]
  },
  {
   "cell_type": "code",
   "execution_count": 100,
   "metadata": {},
   "outputs": [
    {
     "data": {
      "text/html": [
       "<div>\n",
       "<style scoped>\n",
       "    .dataframe tbody tr th:only-of-type {\n",
       "        vertical-align: middle;\n",
       "    }\n",
       "\n",
       "    .dataframe tbody tr th {\n",
       "        vertical-align: top;\n",
       "    }\n",
       "\n",
       "    .dataframe thead th {\n",
       "        text-align: right;\n",
       "    }\n",
       "</style>\n",
       "<table border=\"1\" class=\"dataframe\">\n",
       "  <thead>\n",
       "    <tr style=\"text-align: right;\">\n",
       "      <th></th>\n",
       "      <th>id</th>\n",
       "      <th>abstract</th>\n",
       "      <th>data_split</th>\n",
       "      <th>pmid</th>\n",
       "    </tr>\n",
       "  </thead>\n",
       "  <tbody>\n",
       "    <tr>\n",
       "      <th>0</th>\n",
       "      <td>1</td>\n",
       "      <td>ABSTRACT.BACKGROUND:\\nMetabolic syndrome is a ...</td>\n",
       "      <td>TEST</td>\n",
       "      <td>15892894</td>\n",
       "    </tr>\n",
       "    <tr>\n",
       "      <th>1</th>\n",
       "      <td>2</td>\n",
       "      <td>ABSTRACT.\\nThalassemia is the commonest single...</td>\n",
       "      <td>TEST</td>\n",
       "      <td>22131679</td>\n",
       "    </tr>\n",
       "    <tr>\n",
       "      <th>2</th>\n",
       "      <td>3</td>\n",
       "      <td>ABSTRACT.BACKGROUND:\\nNasal insufflation of CO...</td>\n",
       "      <td>TEST</td>\n",
       "      <td>23574808</td>\n",
       "    </tr>\n",
       "    <tr>\n",
       "      <th>3</th>\n",
       "      <td>4</td>\n",
       "      <td>ABSTRACT.OBJECTIVE.\\nThere are controversial f...</td>\n",
       "      <td>TEST</td>\n",
       "      <td>24665285</td>\n",
       "    </tr>\n",
       "    <tr>\n",
       "      <th>4</th>\n",
       "      <td>5</td>\n",
       "      <td>ABSTRACT.PURPOSE:\\nTo evaluate the analgesic e...</td>\n",
       "      <td>TEST</td>\n",
       "      <td>24639945</td>\n",
       "    </tr>\n",
       "  </tbody>\n",
       "</table>\n",
       "</div>"
      ],
      "text/plain": [
       "   id                                           abstract data_split      pmid\n",
       "0   1  ABSTRACT.BACKGROUND:\\nMetabolic syndrome is a ...       TEST  15892894\n",
       "1   2  ABSTRACT.\\nThalassemia is the commonest single...       TEST  22131679\n",
       "2   3  ABSTRACT.BACKGROUND:\\nNasal insufflation of CO...       TEST  23574808\n",
       "3   4  ABSTRACT.OBJECTIVE.\\nThere are controversial f...       TEST  24665285\n",
       "4   5  ABSTRACT.PURPOSE:\\nTo evaluate the analgesic e...       TEST  24639945"
      ]
     },
     "execution_count": 100,
     "metadata": {},
     "output_type": "execute_result"
    }
   ],
   "source": [
    "# read the updated csv file (manually verified and corrected wrong pmids)\n",
    "df_abstracts_with_pmid = pd.read_csv('FactPico_115_abstracts_with_pmid.csv')\n",
    "df_abstracts_with_pmid.head()"
   ]
  },
  {
   "cell_type": "code",
   "execution_count": null,
   "metadata": {},
   "outputs": [],
   "source": [
    "def get_pmcid_from_pmid(pmid):\n",
    "    # Use Entrez.elink to link PMID to PMCID\n",
    "    handle = Entrez.elink(dbfrom=\"pubmed\", db=\"pmc\", id=pmid)\n",
    "    records = Entrez.read(handle)\n",
    "    handle.close()\n",
    "    \n",
    "    # Parse the results\n",
    "    pmcid = None\n",
    "    linksets = records[0][\"LinkSetDb\"]\n",
    "    if linksets:\n",
    "        for linkset in linksets:\n",
    "            if linkset[\"DbTo\"] == \"pmc\" and linkset[\"LinkName\"] == \"pubmed_pmc\":\n",
    "                pmcid = linkset[\"Link\"][0][\"Id\"]  # Retrieve the PMCID\n",
    "                break\n",
    "    \n",
    "    return pmcid"
   ]
  },
  {
   "cell_type": "code",
   "execution_count": null,
   "metadata": {},
   "outputs": [],
   "source": [
    "# Apply a function row-wise for getting pmcid\n",
    "df_abstracts_with_pmid['pmid'] = df_abstracts_with_pmid['pmid'].astype(str)\n",
    "df_abstracts_with_pmid['pmcid'] = df_abstracts_with_pmid.apply(lambda row: get_pmcid_from_pmid(row['pmid']), axis=1)"
   ]
  },
  {
   "cell_type": "code",
   "execution_count": 107,
   "metadata": {},
   "outputs": [
    {
     "data": {
      "text/plain": [
       "115"
      ]
     },
     "execution_count": 107,
     "metadata": {},
     "output_type": "execute_result"
    }
   ],
   "source": [
    "# count how many pmcid we got that is not None\n",
    "df_abstracts_with_pmid['pmcid'].count()"
   ]
  },
  {
   "cell_type": "markdown",
   "metadata": {},
   "source": [
    "## Get titles from PMIDs via API"
   ]
  },
  {
   "cell_type": "code",
   "execution_count": null,
   "metadata": {},
   "outputs": [],
   "source": [
    "def get_title_from_pmid_medline(pmid):\n",
    "    # Use Entrez.efetch to fetch the article data\n",
    "    handle = Entrez.efetch(db=\"pubmed\", id=pmid, rettype=\"medline\", retmode=\"text\")\n",
    "    records = Medline.parse(handle)\n",
    "    \n",
    "    # Parse and get the title\n",
    "    for record in records:\n",
    "        return record.get(\"TI\")  # Retrieve the title\n",
    "    return None"
   ]
  },
  {
   "cell_type": "code",
   "execution_count": null,
   "metadata": {},
   "outputs": [],
   "source": [
    "# Apply a function row-wise for getting title\n",
    "df_abstracts_with_pmid['title'] = df_abstracts_with_pmid.apply(lambda row: get_title_from_pmid_medline(row['pmid']), axis=1)"
   ]
  },
  {
   "cell_type": "code",
   "execution_count": 110,
   "metadata": {},
   "outputs": [
    {
     "data": {
      "text/plain": [
       "115"
      ]
     },
     "execution_count": 110,
     "metadata": {},
     "output_type": "execute_result"
    }
   ],
   "source": [
    "# count how many titles we got that is not None\n",
    "df_abstracts_with_pmid['title'].count()"
   ]
  },
  {
   "cell_type": "code",
   "execution_count": 111,
   "metadata": {},
   "outputs": [],
   "source": [
    "# save the dataframe to a new csv file - the rest will be retrieved manually from pubmed\n",
    "df_abstracts_with_pmid.to_csv('FactPico_115_abstracts_with_pmid_pmcid_title.csv', index=False)"
   ]
  }
 ],
 "metadata": {
  "kernelspec": {
   "display_name": "MedLitSpin",
   "language": "python",
   "name": "python3"
  },
  "language_info": {
   "codemirror_mode": {
    "name": "ipython",
    "version": 3
   },
   "file_extension": ".py",
   "mimetype": "text/x-python",
   "name": "python",
   "nbconvert_exporter": "python",
   "pygments_lexer": "ipython3",
   "version": "3.11.10"
  }
 },
 "nbformat": 4,
 "nbformat_minor": 2
}
