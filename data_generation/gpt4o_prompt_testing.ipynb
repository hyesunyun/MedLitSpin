{
 "cells": [
  {
   "cell_type": "markdown",
   "metadata": {},
   "source": [
    "# Notebook for Testing Prompts with GPT-4o\n",
    "\n",
    "This is for generating synthetic dataset which involves having the LLM (GPT-4o in this case) add different magnitude of spin to a given abstract."
   ]
  },
  {
   "cell_type": "code",
   "execution_count": 10,
   "metadata": {},
   "outputs": [],
   "source": [
    "# import package\n",
    "from openai import OpenAI\n",
    "import pandas as pd\n",
    "from tqdm import tqdm\n",
    "import os\n",
    "from dotenv import load_dotenv"
   ]
  },
  {
   "cell_type": "code",
   "execution_count": 11,
   "metadata": {},
   "outputs": [],
   "source": [
    "def load_api_keys():\n",
    "    load_dotenv(override=True)\n",
    "    client = OpenAI(api_key=os.getenv(\"OPENAI_API_KEY\"))\n",
    "    return client"
   ]
  },
  {
   "cell_type": "code",
   "execution_count": 12,
   "metadata": {},
   "outputs": [
    {
     "name": "stdout",
     "output_type": "stream",
     "text": [
      "Number of abstracts in DEV set: 14\n"
     ]
    }
   ],
   "source": [
    "# get original abstracts used for testing prompts (DEV set)\n",
    "df_abstracts = pd.read_csv('../data/FactPico_115_abstracts_with_pmid_pmcid_title.csv')\n",
    "df_dev_abstracts = df_abstracts[df_abstracts['data_split'] == 'DEV']\n",
    "\n",
    "# count number of abstracts\n",
    "print('Number of abstracts in DEV set:', len(df_dev_abstracts))"
   ]
  },
  {
   "cell_type": "markdown",
   "metadata": {},
   "source": [
    "## PART TO CUSTOMIZE"
   ]
  },
  {
   "cell_type": "code",
   "execution_count": 13,
   "metadata": {},
   "outputs": [],
   "source": [
    "PROMPT_TEMPLATE_NAME = 'gpt4o-generated-general-temp0_3-p0_2'"
   ]
  },
  {
   "cell_type": "code",
   "execution_count": 14,
   "metadata": {},
   "outputs": [],
   "source": [
    "SYSTEM_PROMPT = 'You are an expert in the field of health sciences.'"
   ]
  },
  {
   "cell_type": "code",
   "execution_count": 15,
   "metadata": {},
   "outputs": [],
   "source": [
    "PROMPT_TEMPLATE = 'Reframe the abstract below to make the treatment results appear more compelling, emphasizing effectiveness while maintaining the integrity of the original data. Use language strategies to highlight positive outcomes, such as choosing stronger adjectives, focusing on key benefits, and crafting a tone of optimism. Avoid altering any of the actual numerical results or statistical findings, ensuring all changes are limited to the way the quantitative results are communicated. Provide at least three versions with varying degrees of emphasis (subtle, moderate, and strong).\\n\\nAbstract: {abstract}'"
   ]
  },
  {
   "cell_type": "code",
   "execution_count": 16,
   "metadata": {},
   "outputs": [],
   "source": [
    "TEMPERATURE = 0.3\n",
    "TOP_P = 0.2"
   ]
  },
  {
   "cell_type": "code",
   "execution_count": 17,
   "metadata": {},
   "outputs": [],
   "source": [
    "NEW_FILENAME = \"./prompt_engineering/gpt4o-generated-general-temp0_3-p0_2.csv\""
   ]
  },
  {
   "cell_type": "markdown",
   "metadata": {},
   "source": [
    "## RUN generation"
   ]
  },
  {
   "cell_type": "code",
   "execution_count": 18,
   "metadata": {},
   "outputs": [],
   "source": [
    "def gen_gpt4o(title, abstract, client, temperature=1, top_p=1):\n",
    "    \n",
    "    sys_prompt = SYSTEM_PROMPT.replace('{title}', title).replace('{abstract}', abstract)\n",
    "    user_prompt = PROMPT_TEMPLATE.replace('{title}', title).replace('{abstract}', abstract)\n",
    "\n",
    "    response = client.chat.completions.create(\n",
    "        model=\"gpt-4o\",\n",
    "        temperature=temperature,\n",
    "        top_p=top_p,\n",
    "        messages=[\n",
    "            {'role':'system', 'content': sys_prompt},\n",
    "            {'role': 'user', 'content': user_prompt}\n",
    "        ]\n",
    "    )\n",
    "    response_content = response.choices[0].message.content\n",
    "    return response_content"
   ]
  },
  {
   "cell_type": "code",
   "execution_count": 19,
   "metadata": {},
   "outputs": [
    {
     "name": "stderr",
     "output_type": "stream",
     "text": [
      "100%|██████████| 14/14 [06:35<00:00, 28.24s/it]\n"
     ]
    }
   ],
   "source": [
    "# prompt_template, prompt_with_input, model, model_output\n",
    "client = load_api_keys()\n",
    "\n",
    "output_data = []\n",
    "for i, row in tqdm(df_dev_abstracts.iterrows(), total=df_dev_abstracts.shape[0]):\n",
    "    data_dict = {}\n",
    "    data_dict['pmid'] = row['pmid']\n",
    "    data_dict['pmcid'] = row['pmcid']\n",
    "    data_dict['title'] = row['title']\n",
    "    data_dict['abstract'] = row['abstract']\n",
    "    data_dict['prompt_template_name'] = PROMPT_TEMPLATE_NAME\n",
    "    data_dict['prompt_template'] = SYSTEM_PROMPT + ' ' + PROMPT_TEMPLATE\n",
    "    data_dict['model_name'] = 'gpt-4o'\n",
    "    data_dict['model_output'] = gen_gpt4o(row['title'], row['abstract'], client, TEMPERATURE, TOP_P)\n",
    "    \n",
    "    output_data.append(data_dict)\n",
    "    \n",
    "new_df = pd.DataFrame.from_dict(output_data)\n",
    "\n",
    "new_df.to_csv(NEW_FILENAME)"
   ]
  }
 ],
 "metadata": {
  "kernelspec": {
   "display_name": "MedLitSpin",
   "language": "python",
   "name": "python3"
  },
  "language_info": {
   "codemirror_mode": {
    "name": "ipython",
    "version": 3
   },
   "file_extension": ".py",
   "mimetype": "text/x-python",
   "name": "python",
   "nbconvert_exporter": "python",
   "pygments_lexer": "ipython3",
   "version": "3.11.10"
  }
 },
 "nbformat": 4,
 "nbformat_minor": 2
}
