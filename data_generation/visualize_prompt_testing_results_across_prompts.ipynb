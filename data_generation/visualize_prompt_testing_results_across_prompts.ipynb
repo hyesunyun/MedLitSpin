{
 "cells": [
  {
   "cell_type": "markdown",
   "metadata": {},
   "source": [
    "# For organizing and visualizing results across prompts\n",
    "\n",
    "Headers: original_abstract, prompt1_output, prompt2_output, etc"
   ]
  },
  {
   "cell_type": "code",
   "execution_count": null,
   "metadata": {},
   "outputs": [],
   "source": [
    "# import packages\n",
    "import pandas as pd"
   ]
  },
  {
   "cell_type": "markdown",
   "metadata": {},
   "source": [
    "## CUSTOMIZE"
   ]
  },
  {
   "cell_type": "code",
   "execution_count": null,
   "metadata": {},
   "outputs": [],
   "source": [
    "# List of file names\n",
    "output_file_names = ['file1.csv', 'file2.csv', 'file3.csv']\n",
    "\n",
    "merged_df_filename = 'merged_output.csv'"
   ]
  },
  {
   "cell_type": "markdown",
   "metadata": {},
   "source": [
    "## RUN CODE"
   ]
  },
  {
   "cell_type": "markdown",
   "metadata": {},
   "source": [
    "# Dictionary to store dataframes\n",
    "dataframes = {}\n",
    "\n",
    "# Loop through file names and read each file into a dataframe\n",
    "for file in output_file_names:\n",
    "    df_name = file.split('.')[0]  # Use the file name (without extension) as the dataframe name\n",
    "    dataframes[df_name] = pd.read_csv(file)"
   ]
  },
  {
   "cell_type": "code",
   "execution_count": null,
   "metadata": {},
   "outputs": [],
   "source": [
    "# Get the abstract column from the first dataframe\n",
    "abstract_df = dataframes[output_file_names[0].split('.')[0]][['pmid', 'abstract']]\n",
    "\n",
    "# Initialize the merged dataframe with the abstract column\n",
    "merged_df = abstract_df.copy()\n",
    "\n",
    "# Loop through the dataframes and merge the model_output column\n",
    "for df_name, df in dataframes.items():\n",
    "    if 'model_output' in df.columns:\n",
    "        merged_df = merged_df.merge(df[['pmid', 'model_output']], on='pmid', how='left', suffixes=('', f'_{df_name}'))\n",
    "\n",
    "print(merged_df)"
   ]
  },
  {
   "cell_type": "code",
   "execution_count": null,
   "metadata": {},
   "outputs": [],
   "source": [
    "merged_df.to_csv(merged_df_filename, index=False)"
   ]
  }
 ],
 "metadata": {
  "kernelspec": {
   "display_name": "MedLitSpin",
   "language": "python",
   "name": "python3"
  },
  "language_info": {
   "name": "python",
   "version": "3.11.10"
  }
 },
 "nbformat": 4,
 "nbformat_minor": 2
}
