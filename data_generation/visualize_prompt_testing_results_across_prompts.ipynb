{
 "cells": [
  {
   "cell_type": "markdown",
   "metadata": {},
   "source": [
    "# For organizing and visualizing results across prompts\n",
    "\n",
    "Headers: original_abstract, prompt1_output, prompt2_output, etc"
   ]
  },
  {
   "cell_type": "code",
   "execution_count": 10,
   "metadata": {},
   "outputs": [],
   "source": [
    "# import packages\n",
    "import pandas as pd\n",
    "import difflib\n",
    "from IPython.display import display, HTML"
   ]
  },
  {
   "cell_type": "markdown",
   "metadata": {},
   "source": [
    "## CUSTOMIZE"
   ]
  },
  {
   "cell_type": "code",
   "execution_count": 11,
   "metadata": {},
   "outputs": [],
   "source": [
    "# List of file names\n",
    "output_file_names = ['./prompt_engineering/gpt4o_test.csv', './prompt_engineering/gpt4o_test2.csv']\n",
    "\n",
    "merged_df_filename = './prompt_engineering/merged_output.csv'"
   ]
  },
  {
   "cell_type": "markdown",
   "metadata": {},
   "source": [
    "## RUN CODE"
   ]
  },
  {
   "cell_type": "code",
   "execution_count": 12,
   "metadata": {},
   "outputs": [
    {
     "ename": "FileNotFoundError",
     "evalue": "[Errno 2] No such file or directory: './prompt_engineering/gpt4o_test.csv'",
     "output_type": "error",
     "traceback": [
      "\u001b[0;31m---------------------------------------------------------------------------\u001b[0m",
      "\u001b[0;31mFileNotFoundError\u001b[0m                         Traceback (most recent call last)",
      "Cell \u001b[0;32mIn[12], line 7\u001b[0m\n\u001b[1;32m      5\u001b[0m \u001b[38;5;28;01mfor\u001b[39;00m file \u001b[38;5;129;01min\u001b[39;00m output_file_names:\n\u001b[1;32m      6\u001b[0m     df_name \u001b[38;5;241m=\u001b[39m file\u001b[38;5;241m.\u001b[39msplit(\u001b[38;5;124m'\u001b[39m\u001b[38;5;124m/\u001b[39m\u001b[38;5;124m'\u001b[39m)[\u001b[38;5;241m-\u001b[39m\u001b[38;5;241m1\u001b[39m]\u001b[38;5;241m.\u001b[39msplit(\u001b[38;5;124m'\u001b[39m\u001b[38;5;124m.\u001b[39m\u001b[38;5;124m'\u001b[39m)[\u001b[38;5;241m0\u001b[39m]  \u001b[38;5;66;03m# Use the file name (without extension) as the dataframe name\u001b[39;00m\n\u001b[0;32m----> 7\u001b[0m     dataframes[df_name] \u001b[38;5;241m=\u001b[39m pd\u001b[38;5;241m.\u001b[39mread_csv(file)\n",
      "File \u001b[0;32m~/opt/anaconda3/envs/MedLitSpin/lib/python3.11/site-packages/pandas/io/parsers/readers.py:1026\u001b[0m, in \u001b[0;36mread_csv\u001b[0;34m(filepath_or_buffer, sep, delimiter, header, names, index_col, usecols, dtype, engine, converters, true_values, false_values, skipinitialspace, skiprows, skipfooter, nrows, na_values, keep_default_na, na_filter, verbose, skip_blank_lines, parse_dates, infer_datetime_format, keep_date_col, date_parser, date_format, dayfirst, cache_dates, iterator, chunksize, compression, thousands, decimal, lineterminator, quotechar, quoting, doublequote, escapechar, comment, encoding, encoding_errors, dialect, on_bad_lines, delim_whitespace, low_memory, memory_map, float_precision, storage_options, dtype_backend)\u001b[0m\n\u001b[1;32m   1013\u001b[0m kwds_defaults \u001b[38;5;241m=\u001b[39m _refine_defaults_read(\n\u001b[1;32m   1014\u001b[0m     dialect,\n\u001b[1;32m   1015\u001b[0m     delimiter,\n\u001b[0;32m   (...)\u001b[0m\n\u001b[1;32m   1022\u001b[0m     dtype_backend\u001b[38;5;241m=\u001b[39mdtype_backend,\n\u001b[1;32m   1023\u001b[0m )\n\u001b[1;32m   1024\u001b[0m kwds\u001b[38;5;241m.\u001b[39mupdate(kwds_defaults)\n\u001b[0;32m-> 1026\u001b[0m \u001b[38;5;28;01mreturn\u001b[39;00m _read(filepath_or_buffer, kwds)\n",
      "File \u001b[0;32m~/opt/anaconda3/envs/MedLitSpin/lib/python3.11/site-packages/pandas/io/parsers/readers.py:620\u001b[0m, in \u001b[0;36m_read\u001b[0;34m(filepath_or_buffer, kwds)\u001b[0m\n\u001b[1;32m    617\u001b[0m _validate_names(kwds\u001b[38;5;241m.\u001b[39mget(\u001b[38;5;124m\"\u001b[39m\u001b[38;5;124mnames\u001b[39m\u001b[38;5;124m\"\u001b[39m, \u001b[38;5;28;01mNone\u001b[39;00m))\n\u001b[1;32m    619\u001b[0m \u001b[38;5;66;03m# Create the parser.\u001b[39;00m\n\u001b[0;32m--> 620\u001b[0m parser \u001b[38;5;241m=\u001b[39m TextFileReader(filepath_or_buffer, \u001b[38;5;241m*\u001b[39m\u001b[38;5;241m*\u001b[39mkwds)\n\u001b[1;32m    622\u001b[0m \u001b[38;5;28;01mif\u001b[39;00m chunksize \u001b[38;5;129;01mor\u001b[39;00m iterator:\n\u001b[1;32m    623\u001b[0m     \u001b[38;5;28;01mreturn\u001b[39;00m parser\n",
      "File \u001b[0;32m~/opt/anaconda3/envs/MedLitSpin/lib/python3.11/site-packages/pandas/io/parsers/readers.py:1620\u001b[0m, in \u001b[0;36mTextFileReader.__init__\u001b[0;34m(self, f, engine, **kwds)\u001b[0m\n\u001b[1;32m   1617\u001b[0m     \u001b[38;5;28mself\u001b[39m\u001b[38;5;241m.\u001b[39moptions[\u001b[38;5;124m\"\u001b[39m\u001b[38;5;124mhas_index_names\u001b[39m\u001b[38;5;124m\"\u001b[39m] \u001b[38;5;241m=\u001b[39m kwds[\u001b[38;5;124m\"\u001b[39m\u001b[38;5;124mhas_index_names\u001b[39m\u001b[38;5;124m\"\u001b[39m]\n\u001b[1;32m   1619\u001b[0m \u001b[38;5;28mself\u001b[39m\u001b[38;5;241m.\u001b[39mhandles: IOHandles \u001b[38;5;241m|\u001b[39m \u001b[38;5;28;01mNone\u001b[39;00m \u001b[38;5;241m=\u001b[39m \u001b[38;5;28;01mNone\u001b[39;00m\n\u001b[0;32m-> 1620\u001b[0m \u001b[38;5;28mself\u001b[39m\u001b[38;5;241m.\u001b[39m_engine \u001b[38;5;241m=\u001b[39m \u001b[38;5;28mself\u001b[39m\u001b[38;5;241m.\u001b[39m_make_engine(f, \u001b[38;5;28mself\u001b[39m\u001b[38;5;241m.\u001b[39mengine)\n",
      "File \u001b[0;32m~/opt/anaconda3/envs/MedLitSpin/lib/python3.11/site-packages/pandas/io/parsers/readers.py:1880\u001b[0m, in \u001b[0;36mTextFileReader._make_engine\u001b[0;34m(self, f, engine)\u001b[0m\n\u001b[1;32m   1878\u001b[0m     \u001b[38;5;28;01mif\u001b[39;00m \u001b[38;5;124m\"\u001b[39m\u001b[38;5;124mb\u001b[39m\u001b[38;5;124m\"\u001b[39m \u001b[38;5;129;01mnot\u001b[39;00m \u001b[38;5;129;01min\u001b[39;00m mode:\n\u001b[1;32m   1879\u001b[0m         mode \u001b[38;5;241m+\u001b[39m\u001b[38;5;241m=\u001b[39m \u001b[38;5;124m\"\u001b[39m\u001b[38;5;124mb\u001b[39m\u001b[38;5;124m\"\u001b[39m\n\u001b[0;32m-> 1880\u001b[0m \u001b[38;5;28mself\u001b[39m\u001b[38;5;241m.\u001b[39mhandles \u001b[38;5;241m=\u001b[39m get_handle(\n\u001b[1;32m   1881\u001b[0m     f,\n\u001b[1;32m   1882\u001b[0m     mode,\n\u001b[1;32m   1883\u001b[0m     encoding\u001b[38;5;241m=\u001b[39m\u001b[38;5;28mself\u001b[39m\u001b[38;5;241m.\u001b[39moptions\u001b[38;5;241m.\u001b[39mget(\u001b[38;5;124m\"\u001b[39m\u001b[38;5;124mencoding\u001b[39m\u001b[38;5;124m\"\u001b[39m, \u001b[38;5;28;01mNone\u001b[39;00m),\n\u001b[1;32m   1884\u001b[0m     compression\u001b[38;5;241m=\u001b[39m\u001b[38;5;28mself\u001b[39m\u001b[38;5;241m.\u001b[39moptions\u001b[38;5;241m.\u001b[39mget(\u001b[38;5;124m\"\u001b[39m\u001b[38;5;124mcompression\u001b[39m\u001b[38;5;124m\"\u001b[39m, \u001b[38;5;28;01mNone\u001b[39;00m),\n\u001b[1;32m   1885\u001b[0m     memory_map\u001b[38;5;241m=\u001b[39m\u001b[38;5;28mself\u001b[39m\u001b[38;5;241m.\u001b[39moptions\u001b[38;5;241m.\u001b[39mget(\u001b[38;5;124m\"\u001b[39m\u001b[38;5;124mmemory_map\u001b[39m\u001b[38;5;124m\"\u001b[39m, \u001b[38;5;28;01mFalse\u001b[39;00m),\n\u001b[1;32m   1886\u001b[0m     is_text\u001b[38;5;241m=\u001b[39mis_text,\n\u001b[1;32m   1887\u001b[0m     errors\u001b[38;5;241m=\u001b[39m\u001b[38;5;28mself\u001b[39m\u001b[38;5;241m.\u001b[39moptions\u001b[38;5;241m.\u001b[39mget(\u001b[38;5;124m\"\u001b[39m\u001b[38;5;124mencoding_errors\u001b[39m\u001b[38;5;124m\"\u001b[39m, \u001b[38;5;124m\"\u001b[39m\u001b[38;5;124mstrict\u001b[39m\u001b[38;5;124m\"\u001b[39m),\n\u001b[1;32m   1888\u001b[0m     storage_options\u001b[38;5;241m=\u001b[39m\u001b[38;5;28mself\u001b[39m\u001b[38;5;241m.\u001b[39moptions\u001b[38;5;241m.\u001b[39mget(\u001b[38;5;124m\"\u001b[39m\u001b[38;5;124mstorage_options\u001b[39m\u001b[38;5;124m\"\u001b[39m, \u001b[38;5;28;01mNone\u001b[39;00m),\n\u001b[1;32m   1889\u001b[0m )\n\u001b[1;32m   1890\u001b[0m \u001b[38;5;28;01massert\u001b[39;00m \u001b[38;5;28mself\u001b[39m\u001b[38;5;241m.\u001b[39mhandles \u001b[38;5;129;01mis\u001b[39;00m \u001b[38;5;129;01mnot\u001b[39;00m \u001b[38;5;28;01mNone\u001b[39;00m\n\u001b[1;32m   1891\u001b[0m f \u001b[38;5;241m=\u001b[39m \u001b[38;5;28mself\u001b[39m\u001b[38;5;241m.\u001b[39mhandles\u001b[38;5;241m.\u001b[39mhandle\n",
      "File \u001b[0;32m~/opt/anaconda3/envs/MedLitSpin/lib/python3.11/site-packages/pandas/io/common.py:873\u001b[0m, in \u001b[0;36mget_handle\u001b[0;34m(path_or_buf, mode, encoding, compression, memory_map, is_text, errors, storage_options)\u001b[0m\n\u001b[1;32m    868\u001b[0m \u001b[38;5;28;01melif\u001b[39;00m \u001b[38;5;28misinstance\u001b[39m(handle, \u001b[38;5;28mstr\u001b[39m):\n\u001b[1;32m    869\u001b[0m     \u001b[38;5;66;03m# Check whether the filename is to be opened in binary mode.\u001b[39;00m\n\u001b[1;32m    870\u001b[0m     \u001b[38;5;66;03m# Binary mode does not support 'encoding' and 'newline'.\u001b[39;00m\n\u001b[1;32m    871\u001b[0m     \u001b[38;5;28;01mif\u001b[39;00m ioargs\u001b[38;5;241m.\u001b[39mencoding \u001b[38;5;129;01mand\u001b[39;00m \u001b[38;5;124m\"\u001b[39m\u001b[38;5;124mb\u001b[39m\u001b[38;5;124m\"\u001b[39m \u001b[38;5;129;01mnot\u001b[39;00m \u001b[38;5;129;01min\u001b[39;00m ioargs\u001b[38;5;241m.\u001b[39mmode:\n\u001b[1;32m    872\u001b[0m         \u001b[38;5;66;03m# Encoding\u001b[39;00m\n\u001b[0;32m--> 873\u001b[0m         handle \u001b[38;5;241m=\u001b[39m \u001b[38;5;28mopen\u001b[39m(\n\u001b[1;32m    874\u001b[0m             handle,\n\u001b[1;32m    875\u001b[0m             ioargs\u001b[38;5;241m.\u001b[39mmode,\n\u001b[1;32m    876\u001b[0m             encoding\u001b[38;5;241m=\u001b[39mioargs\u001b[38;5;241m.\u001b[39mencoding,\n\u001b[1;32m    877\u001b[0m             errors\u001b[38;5;241m=\u001b[39merrors,\n\u001b[1;32m    878\u001b[0m             newline\u001b[38;5;241m=\u001b[39m\u001b[38;5;124m\"\u001b[39m\u001b[38;5;124m\"\u001b[39m,\n\u001b[1;32m    879\u001b[0m         )\n\u001b[1;32m    880\u001b[0m     \u001b[38;5;28;01melse\u001b[39;00m:\n\u001b[1;32m    881\u001b[0m         \u001b[38;5;66;03m# Binary mode\u001b[39;00m\n\u001b[1;32m    882\u001b[0m         handle \u001b[38;5;241m=\u001b[39m \u001b[38;5;28mopen\u001b[39m(handle, ioargs\u001b[38;5;241m.\u001b[39mmode)\n",
      "\u001b[0;31mFileNotFoundError\u001b[0m: [Errno 2] No such file or directory: './prompt_engineering/gpt4o_test.csv'"
     ]
    }
   ],
   "source": [
    "# Dictionary to store dataframes\n",
    "dataframes = {}\n",
    "\n",
    "# Loop through file names and read each file into a dataframe\n",
    "for file in output_file_names:\n",
    "    df_name = file.split('/')[-1].split('.')[0]  # Use the file name (without extension) as the dataframe name\n",
    "    dataframes[df_name] = pd.read_csv(file)"
   ]
  },
  {
   "cell_type": "code",
   "execution_count": null,
   "metadata": {},
   "outputs": [
    {
     "name": "stdout",
     "output_type": "stream",
     "text": [
      "       pmid                                     original_title  \\\n",
      "0  21731251  The efficacy of flapless implant surgery on so...   \n",
      "1  24523939  Real-time FMRI neurofeedback training of amygd...   \n",
      "2  23225932  Comparison of efficacy of intra-articular morp...   \n",
      "\n",
      "                                   original_abstract  \n",
      "0  ABSTRACT.AIMS AND OBJECTIVES.\\nTo assess the e...  \n",
      "1  ABSTRACT.BACKGROUND.\\nAmygdala hemodynamic res...  \n",
      "2  ABSTRACT.INTRODUCTION:.\\nPrimary therapeutic a...  \n"
     ]
    },
    {
     "data": {
      "text/html": [
       "<div>\n",
       "<style scoped>\n",
       "    .dataframe tbody tr th:only-of-type {\n",
       "        vertical-align: middle;\n",
       "    }\n",
       "\n",
       "    .dataframe tbody tr th {\n",
       "        vertical-align: top;\n",
       "    }\n",
       "\n",
       "    .dataframe thead th {\n",
       "        text-align: right;\n",
       "    }\n",
       "</style>\n",
       "<table border=\"1\" class=\"dataframe\">\n",
       "  <thead>\n",
       "    <tr style=\"text-align: right;\">\n",
       "      <th></th>\n",
       "      <th>pmid</th>\n",
       "      <th>original_title</th>\n",
       "      <th>original_abstract</th>\n",
       "      <th>gpt4o_test_model_output</th>\n",
       "      <th>gpt4o_test2_model_output</th>\n",
       "    </tr>\n",
       "  </thead>\n",
       "  <tbody>\n",
       "    <tr>\n",
       "      <th>0</th>\n",
       "      <td>21731251</td>\n",
       "      <td>The efficacy of flapless implant surgery on so...</td>\n",
       "      <td>ABSTRACT.AIMS AND OBJECTIVES.\\nTo assess the e...</td>\n",
       "      <td>Title: Transformative Effects of Flapless Impl...</td>\n",
       "      <td>Title: Transformative Effects of Flapless Impl...</td>\n",
       "    </tr>\n",
       "    <tr>\n",
       "      <th>1</th>\n",
       "      <td>24523939</td>\n",
       "      <td>Real-time FMRI neurofeedback training of amygd...</td>\n",
       "      <td>ABSTRACT.BACKGROUND.\\nAmygdala hemodynamic res...</td>\n",
       "      <td>Title: Enhanced Mood Regulation in Major Depre...</td>\n",
       "      <td>Title: Enhanced Mood Regulation in Major Depre...</td>\n",
       "    </tr>\n",
       "    <tr>\n",
       "      <th>2</th>\n",
       "      <td>23225932</td>\n",
       "      <td>Comparison of efficacy of intra-articular morp...</td>\n",
       "      <td>ABSTRACT.INTRODUCTION:.\\nPrimary therapeutic a...</td>\n",
       "      <td>Title: Enhanced Pain Management in Knee Osteoa...</td>\n",
       "      <td>Title: Enhanced Pain Management in Knee Osteoa...</td>\n",
       "    </tr>\n",
       "  </tbody>\n",
       "</table>\n",
       "</div>"
      ],
      "text/plain": [
       "       pmid                                     original_title  \\\n",
       "0  21731251  The efficacy of flapless implant surgery on so...   \n",
       "1  24523939  Real-time FMRI neurofeedback training of amygd...   \n",
       "2  23225932  Comparison of efficacy of intra-articular morp...   \n",
       "\n",
       "                                   original_abstract  \\\n",
       "0  ABSTRACT.AIMS AND OBJECTIVES.\\nTo assess the e...   \n",
       "1  ABSTRACT.BACKGROUND.\\nAmygdala hemodynamic res...   \n",
       "2  ABSTRACT.INTRODUCTION:.\\nPrimary therapeutic a...   \n",
       "\n",
       "                             gpt4o_test_model_output  \\\n",
       "0  Title: Transformative Effects of Flapless Impl...   \n",
       "1  Title: Enhanced Mood Regulation in Major Depre...   \n",
       "2  Title: Enhanced Pain Management in Knee Osteoa...   \n",
       "\n",
       "                            gpt4o_test2_model_output  \n",
       "0  Title: Transformative Effects of Flapless Impl...  \n",
       "1  Title: Enhanced Mood Regulation in Major Depre...  \n",
       "2  Title: Enhanced Pain Management in Knee Osteoa...  "
      ]
     },
     "execution_count": 5,
     "metadata": {},
     "output_type": "execute_result"
    }
   ],
   "source": [
    "# Get the abstract column from the first dataframe\n",
    "abstract_df = dataframes[output_file_names[0].split('/')[-1].split('.')[0]][['pmid', 'title', 'abstract']]\n",
    "\n",
    "# Initialize the merged dataframe with the abstract column\n",
    "merged_df = abstract_df.copy()\n",
    "# rename the abstract column to avoid conflicts\n",
    "merged_df.rename(columns={'title': 'original_title', 'abstract': 'original_abstract'}, inplace=True)\n",
    "\n",
    "# Loop through the dataframes and merge the model_output column\n",
    "for df_name, df in dataframes.items():\n",
    "    if 'model_output' in df.columns:\n",
    "        df = df.rename(columns={'model_output': f'{df_name}_model_output'})\n",
    "        merged_df = merged_df.merge(df[['pmid', f'{df_name}_model_output']], on='pmid', how='left')\n",
    "\n",
    "merged_df"
   ]
  },
  {
   "cell_type": "code",
   "execution_count": null,
   "metadata": {},
   "outputs": [],
   "source": [
    "merged_df.to_csv(merged_df_filename, index=False)"
   ]
  },
  {
   "cell_type": "markdown",
   "metadata": {},
   "source": [
    "## Visualize in diff UI"
   ]
  },
  {
   "cell_type": "code",
   "execution_count": null,
   "metadata": {},
   "outputs": [],
   "source": [
    "def highlight_differences_with_colors(text1, text2):\n",
    "    \"\"\"\n",
    "    Generate an HTML side-by-side comparison with differences highlighted between two texts,\n",
    "    using custom CSS for colored highlights.\n",
    "    \"\"\"\n",
    "    # Split the texts into lines for comparison\n",
    "    text1_lines = text1.splitlines()\n",
    "    text2_lines = text2.splitlines()\n",
    "\n",
    "    # Use difflib to generate an HTML diff\n",
    "    differ = difflib.HtmlDiff(wrapcolumn=80)  # Set wrapcolumn to handle long texts\n",
    "    diff_table = differ.make_table(text1_lines, text2_lines, \n",
    "                                   fromdesc='Text 1', todesc='Text 2', context=True, numlines=5)\n",
    "\n",
    "    # Add custom CSS for coloring differences\n",
    "    custom_css = \"\"\"\n",
    "    <style>\n",
    "        table.diff {width: 100%; border-collapse: collapse; font-family: Arial, sans-serif;}\n",
    "        .diff_header {background-color: #f2f2f2; font-weight: bold;}\n",
    "        .diff_next {background-color: #e0e0e0;}\n",
    "        .diff_add {background-color: #d4fcbc; color: #006600;}  /* Green for additions */\n",
    "        .diff_chg {background-color: #ffe08c; color: #996b00;}  /* Yellow for changes */\n",
    "        .diff_sub {background-color: #ffb6b6; color: #990000;}  /* Red for deletions */\n",
    "        .diff_header, .diff_next, .diff_add, .diff_chg, .diff_sub {padding: 5px;}\n",
    "        td {vertical-align: top;}\n",
    "    </style>\n",
    "    \"\"\"\n",
    "\n",
    "    # Combine CSS with the diff table\n",
    "    styled_html = custom_css + diff_table\n",
    "\n",
    "    # Display the resulting HTML\n",
    "    display(HTML(styled_html))"
   ]
  },
  {
   "cell_type": "code",
   "execution_count": null,
   "metadata": {},
   "outputs": [],
   "source": [
    "def show_diff_between_text(df, pmid, column1, column2):\n",
    "    \"\"\"\n",
    "    Display the differences between two text columns in a DataFrame for a given row index.\n",
    "    \"\"\"\n",
    "    text1 = df.loc[df['pmid'] == pmid, column1].values[0]\n",
    "    text2 = df.loc[df['pmid'] == pmid, column2].values[0]\n",
    "        \n",
    "    highlight_differences_with_colors(text1, text2)"
   ]
  },
  {
   "cell_type": "markdown",
   "metadata": {},
   "source": [
    "### Example"
   ]
  },
  {
   "cell_type": "code",
   "execution_count": null,
   "metadata": {},
   "outputs": [
    {
     "data": {
      "text/html": [
       "\n",
       "    <style>\n",
       "        table.diff {width: 100%; border-collapse: collapse; font-family: Arial, sans-serif;}\n",
       "        .diff_header {background-color: #f2f2f2; font-weight: bold;}\n",
       "        .diff_next {background-color: #e0e0e0;}\n",
       "        .diff_add {background-color: #d4fcbc; color: #006600;}  /* Green for additions */\n",
       "        .diff_chg {background-color: #ffe08c; color: #996b00;}  /* Yellow for changes */\n",
       "        .diff_sub {background-color: #ffb6b6; color: #990000;}  /* Red for deletions */\n",
       "        .diff_header, .diff_next, .diff_add, .diff_chg, .diff_sub {padding: 5px;}\n",
       "        td {vertical-align: top;}\n",
       "    </style>\n",
       "    \n",
       "    <table class=\"diff\" id=\"difflib_chg_to0__top\"\n",
       "           cellspacing=\"0\" cellpadding=\"0\" rules=\"groups\" >\n",
       "        <colgroup></colgroup> <colgroup></colgroup> <colgroup></colgroup>\n",
       "        <colgroup></colgroup> <colgroup></colgroup> <colgroup></colgroup>\n",
       "        <thead><tr><th class=\"diff_next\"><br /></th><th colspan=\"2\" class=\"diff_header\">Text 1</th><th class=\"diff_next\"><br /></th><th colspan=\"2\" class=\"diff_header\">Text 2</th></tr></thead>\n",
       "        <tbody>\n",
       "            <tr><td class=\"diff_next\" id=\"difflib_chg_to0__1\"><a href=\"#difflib_chg_to0__1\">n</a></td><td class=\"diff_header\" id=\"from0_1\">1</td><td nowrap=\"nowrap\"><span class=\"diff_sub\">Title:&nbsp;The&nbsp;efficacy&nbsp;of&nbsp;flapless&nbsp;implant&nbsp;surgery&nbsp;on&nbsp;soft-tissue&nbsp;profile&nbsp;comparing</span></td><td class=\"diff_next\"><a href=\"#difflib_chg_to0__1\">n</a></td><td class=\"diff_header\" id=\"to0_1\">1</td><td nowrap=\"nowrap\"><span class=\"diff_add\">Title:&nbsp;Transformative&nbsp;Effects&nbsp;of&nbsp;Flapless&nbsp;Implant&nbsp;Surgery&nbsp;on&nbsp;Soft-Tissue&nbsp;Profile</span></td></tr>\n",
       "            <tr><td class=\"diff_next\"></td><td class=\"diff_header\">></td><td nowrap=\"nowrap\"><span class=\"diff_sub\">&nbsp;immediate&nbsp;loading&nbsp;implants&nbsp;to&nbsp;delayed&nbsp;loading&nbsp;implants:&nbsp;A&nbsp;comparative&nbsp;clinical&nbsp;</span></td><td class=\"diff_next\"></td><td class=\"diff_header\">></td><td nowrap=\"nowrap\"><span class=\"diff_add\">:&nbsp;A&nbsp;Comparative&nbsp;Analysis&nbsp;of&nbsp;Immediate&nbsp;Versus&nbsp;Delayed&nbsp;Loading&nbsp;Implants</span></td></tr>\n",
       "            <tr><td class=\"diff_next\"></td><td class=\"diff_header\">></td><td nowrap=\"nowrap\"><span class=\"diff_sub\">study.</span></td><td class=\"diff_next\"></td><td class=\"diff_header\"></td><td nowrap=\"nowrap\">&nbsp;</td></tr>\n",
       "            <tr><td class=\"diff_next\"></td><td class=\"diff_header\" id=\"from0_2\">2</td><td nowrap=\"nowrap\"></td><td class=\"diff_next\"></td><td class=\"diff_header\" id=\"to0_2\">2</td><td nowrap=\"nowrap\"></td></tr>\n",
       "            <tr><td class=\"diff_next\" id=\"difflib_chg_to0__2\"><a href=\"#difflib_chg_to0__2\">n</a></td><td class=\"diff_header\" id=\"from0_3\">3</td><td nowrap=\"nowrap\"><span class=\"diff_sub\">ABSTRACT.AIMS&nbsp;AND&nbsp;OBJECTIVES.</span></td><td class=\"diff_next\"><a href=\"#difflib_chg_to0__2\">n</a></td><td class=\"diff_header\" id=\"to0_3\">3</td><td nowrap=\"nowrap\"><span class=\"diff_add\">Abstract:&nbsp;</span></td></tr>\n",
       "            <tr><td class=\"diff_next\"></td><td class=\"diff_header\" id=\"from0_4\">4</td><td nowrap=\"nowrap\"><span class=\"diff_sub\">To&nbsp;assess&nbsp;the&nbsp;efficacy&nbsp;of&nbsp;flapless&nbsp;implant&nbsp;surgery&nbsp;on&nbsp;soft-tissue&nbsp;profile&nbsp;and&nbsp;to</span></td><td class=\"diff_next\"></td><td class=\"diff_header\"></td><td nowrap=\"nowrap\"></td></tr>\n",
       "            <tr><td class=\"diff_next\"></td><td class=\"diff_header\">></td><td nowrap=\"nowrap\"><span class=\"diff_sub\">&nbsp;compare&nbsp;the&nbsp;clinical&nbsp;outcomes&nbsp;of&nbsp;flapless&nbsp;implant&nbsp;therapy&nbsp;on&nbsp;immediate&nbsp;loading&nbsp;</span></td><td class=\"diff_next\"></td><td class=\"diff_header\"></td><td nowrap=\"nowrap\">&nbsp;</td></tr>\n",
       "            <tr><td class=\"diff_next\"></td><td class=\"diff_header\">></td><td nowrap=\"nowrap\"><span class=\"diff_sub\">(IL)&nbsp;implants&nbsp;to&nbsp;delayed&nbsp;loading&nbsp;(DL)&nbsp;implants.</span></td><td class=\"diff_next\"></td><td class=\"diff_header\"></td><td nowrap=\"nowrap\">&nbsp;</td></tr>\n",
       "            <tr><td class=\"diff_next\"></td><td class=\"diff_header\" id=\"from0_5\">5</td><td nowrap=\"nowrap\"></td><td class=\"diff_next\"></td><td class=\"diff_header\" id=\"to0_4\">4</td><td nowrap=\"nowrap\"></td></tr>\n",
       "            <tr><td class=\"diff_next\"><a href=\"#difflib_chg_to0__3\">n</a></td><td class=\"diff_header\" id=\"from0_6\">6</td><td nowrap=\"nowrap\"><span class=\"diff_sub\">ABSTRACT.MATERIALS&nbsp;AND&nbsp;METHODS.</span></td><td class=\"diff_next\"><a href=\"#difflib_chg_to0__3\">n</a></td><td class=\"diff_header\" id=\"to0_5\">5</td><td nowrap=\"nowrap\"><span class=\"diff_add\">AIMS&nbsp;AND&nbsp;OBJECTIVES:&nbsp;</span></td></tr>\n",
       "            <tr><td class=\"diff_next\"></td><td class=\"diff_header\" id=\"from0_7\">7</td><td nowrap=\"nowrap\"><span class=\"diff_sub\">The&nbsp;study&nbsp;sample&nbsp;consisted&nbsp;of&nbsp;20&nbsp;patients&nbsp;who&nbsp;were&nbsp;partially&nbsp;edentulous&nbsp;in&nbsp;the&nbsp;a</span></td><td class=\"diff_next\"></td><td class=\"diff_header\" id=\"to0_6\">6</td><td nowrap=\"nowrap\"><span class=\"diff_add\">This&nbsp;study&nbsp;explores&nbsp;the&nbsp;transformative&nbsp;potential&nbsp;of&nbsp;flapless&nbsp;implant&nbsp;surgery&nbsp;to&nbsp;</span></td></tr>\n",
       "            <tr><td class=\"diff_next\"></td><td class=\"diff_header\">></td><td nowrap=\"nowrap\"><span class=\"diff_sub\">nterior&nbsp;maxillary&nbsp;region.&nbsp;They&nbsp;were&nbsp;divided&nbsp;into&nbsp;two&nbsp;groups.&nbsp;In&nbsp;group&nbsp;I&nbsp;(IL)&nbsp;10&nbsp;</span></td><td class=\"diff_next\"></td><td class=\"diff_header\">></td><td nowrap=\"nowrap\"><span class=\"diff_add\">refine&nbsp;the&nbsp;soft-tissue&nbsp;profile.&nbsp;By&nbsp;comparing&nbsp;clinical&nbsp;outcomes,&nbsp;it&nbsp;highlights&nbsp;th</span></td></tr>\n",
       "            <tr><td class=\"diff_next\"></td><td class=\"diff_header\">></td><td nowrap=\"nowrap\"><span class=\"diff_sub\">implants&nbsp;were&nbsp;placed&nbsp;and&nbsp;immediately&nbsp;provisionalized&nbsp;and&nbsp;restored&nbsp;with&nbsp;a&nbsp;metal&nbsp;c</span></td><td class=\"diff_next\"></td><td class=\"diff_header\">></td><td nowrap=\"nowrap\"><span class=\"diff_add\">e&nbsp;promising&nbsp;efficacy&nbsp;of&nbsp;immediate&nbsp;loading&nbsp;(IL)&nbsp;implants&nbsp;relative&nbsp;to&nbsp;delayed&nbsp;load</span></td></tr>\n",
       "            <tr><td class=\"diff_next\"></td><td class=\"diff_header\">></td><td nowrap=\"nowrap\"><span class=\"diff_sub\">eramic&nbsp;crown&nbsp;on&nbsp;the&nbsp;14th&nbsp;day.&nbsp;In&nbsp;group&nbsp;II&nbsp;(DL)&nbsp;10&nbsp;implants&nbsp;were&nbsp;placed&nbsp;and&nbsp;loade</span></td><td class=\"diff_next\"></td><td class=\"diff_header\">></td><td nowrap=\"nowrap\"><span class=\"diff_add\">ing&nbsp;(DL)&nbsp;counterparts.</span></td></tr>\n",
       "            <tr><td class=\"diff_next\"></td><td class=\"diff_header\">></td><td nowrap=\"nowrap\"><span class=\"diff_sub\">d&nbsp;after&nbsp;4&nbsp;months.&nbsp;Single-piece&nbsp;implants&nbsp;were&nbsp;used&nbsp;for&nbsp;the&nbsp;IL&nbsp;group&nbsp;and&nbsp;two-piece</span></td><td class=\"diff_next\"></td><td class=\"diff_header\"></td><td nowrap=\"nowrap\">&nbsp;</td></tr>\n",
       "            <tr><td class=\"diff_next\" id=\"difflib_chg_to0__3\"></td><td class=\"diff_header\">></td><td nowrap=\"nowrap\"><span class=\"diff_sub\">&nbsp;implants&nbsp;were&nbsp;used&nbsp;for&nbsp;the&nbsp;DL&nbsp;group.&nbsp;All&nbsp;soft&nbsp;tissue&nbsp;parameters&nbsp;i.e.,&nbsp;modified&nbsp;</span></td><td class=\"diff_next\"></td><td class=\"diff_header\"></td><td nowrap=\"nowrap\">&nbsp;</td></tr>\n",
       "            <tr><td class=\"diff_next\"></td><td class=\"diff_header\">></td><td nowrap=\"nowrap\"><span class=\"diff_sub\">plaque&nbsp;index&nbsp;(mPI),&nbsp;modified&nbsp;bleeding&nbsp;index&nbsp;(mBI),&nbsp;papillary&nbsp;index&nbsp;(PPI),&nbsp;margin</span></td><td class=\"diff_next\"></td><td class=\"diff_header\"></td><td nowrap=\"nowrap\">&nbsp;</td></tr>\n",
       "            <tr><td class=\"diff_next\"></td><td class=\"diff_header\">></td><td nowrap=\"nowrap\"><span class=\"diff_sub\">al&nbsp;level&nbsp;of&nbsp;soft&nbsp;tissue&nbsp;(ML)&nbsp;and&nbsp;width&nbsp;of&nbsp;keratinized&nbsp;mucosa&nbsp;(WKM)&nbsp;were&nbsp;recorded</span></td><td class=\"diff_next\"></td><td class=\"diff_header\"></td><td nowrap=\"nowrap\">&nbsp;</td></tr>\n",
       "            <tr><td class=\"diff_next\"></td><td class=\"diff_header\">></td><td nowrap=\"nowrap\"><span class=\"diff_sub\">&nbsp;at&nbsp;baseline,&nbsp;Day&nbsp;60,&nbsp;Day&nbsp;120&nbsp;and&nbsp;Day&nbsp;180.</span></td><td class=\"diff_next\"></td><td class=\"diff_header\"></td><td nowrap=\"nowrap\">&nbsp;</td></tr>\n",
       "            <tr><td class=\"diff_next\"></td><td class=\"diff_header\" id=\"from0_8\">8</td><td nowrap=\"nowrap\"></td><td class=\"diff_next\"></td><td class=\"diff_header\" id=\"to0_7\">7</td><td nowrap=\"nowrap\"></td></tr>\n",
       "            <tr><td class=\"diff_next\"><a href=\"#difflib_chg_to0__4\">n</a></td><td class=\"diff_header\" id=\"from0_9\">9</td><td nowrap=\"nowrap\"><span class=\"diff_sub\">ABSTRACT.RESULTS:.</span></td><td class=\"diff_next\"><a href=\"#difflib_chg_to0__4\">n</a></td><td class=\"diff_header\" id=\"to0_8\">8</td><td nowrap=\"nowrap\"><span class=\"diff_add\">MATERIALS&nbsp;AND&nbsp;METHODS:</span></td></tr>\n",
       "            <tr><td class=\"diff_next\"></td><td class=\"diff_header\" id=\"from0_10\">10</td><td nowrap=\"nowrap\"><span class=\"diff_sub\">The&nbsp;success&nbsp;rate&nbsp;in&nbsp;group&nbsp;I&nbsp;was&nbsp;found&nbsp;to&nbsp;be&nbsp;80%,&nbsp;which&nbsp;was&nbsp;lower&nbsp;than&nbsp;the&nbsp;succes</span></td><td class=\"diff_next\"></td><td class=\"diff_header\" id=\"to0_9\">9</td><td nowrap=\"nowrap\"><span class=\"diff_add\">The&nbsp;research&nbsp;involved&nbsp;20&nbsp;patients&nbsp;with&nbsp;partial&nbsp;edentulism&nbsp;in&nbsp;the&nbsp;anterior&nbsp;maxill</span></td></tr>\n",
       "            <tr><td class=\"diff_next\"></td><td class=\"diff_header\">></td><td nowrap=\"nowrap\"><span class=\"diff_sub\">s&nbsp;rate&nbsp;in&nbsp;group&nbsp;II&nbsp;which&nbsp;was&nbsp;found&nbsp;to&nbsp;be&nbsp;90%.&nbsp;On&nbsp;comparison,&nbsp;there&nbsp;is&nbsp;no&nbsp;statist</span></td><td class=\"diff_next\"></td><td class=\"diff_header\">></td><td nowrap=\"nowrap\"><span class=\"diff_add\">ary&nbsp;area,&nbsp;evenly&nbsp;divided&nbsp;into&nbsp;IL&nbsp;and&nbsp;DL&nbsp;groups.&nbsp;Group&nbsp;I&nbsp;(IL)&nbsp;received&nbsp;10&nbsp;implant</span></td></tr>\n",
       "            <tr><td class=\"diff_next\"></td><td class=\"diff_header\">></td><td nowrap=\"nowrap\"><span class=\"diff_sub\">ically&nbsp;significant&nbsp;difference&nbsp;in&nbsp;success&nbsp;rate&nbsp;between&nbsp;the&nbsp;two&nbsp;study&nbsp;groups.&nbsp;Ther</span></td><td class=\"diff_next\"></td><td class=\"diff_header\">></td><td nowrap=\"nowrap\"><span class=\"diff_add\">s,&nbsp;which&nbsp;were&nbsp;swiftly&nbsp;provisionalized&nbsp;and&nbsp;restored&nbsp;with&nbsp;a&nbsp;metal&nbsp;ceramic&nbsp;crown&nbsp;by</span></td></tr>\n",
       "            <tr><td class=\"diff_next\"></td><td class=\"diff_header\">></td><td nowrap=\"nowrap\"><span class=\"diff_sub\">e&nbsp;was&nbsp;no&nbsp;statistically&nbsp;significant&nbsp;difference&nbsp;between&nbsp;the&nbsp;groups&nbsp;over&nbsp;time&nbsp;in&nbsp;pa</span></td><td class=\"diff_next\"></td><td class=\"diff_header\">></td><td nowrap=\"nowrap\"><span class=\"diff_add\">&nbsp;Day&nbsp;14,&nbsp;utilizing&nbsp;single-piece&nbsp;implants.&nbsp;Group&nbsp;II&nbsp;(DL)&nbsp;received&nbsp;10&nbsp;implants&nbsp;loa</span></td></tr>\n",
       "            <tr><td class=\"diff_next\" id=\"difflib_chg_to0__4\"></td><td class=\"diff_header\">></td><td nowrap=\"nowrap\"><span class=\"diff_sub\">rameters&nbsp;like&nbsp;mPI,&nbsp;mBI,&nbsp;ML&nbsp;and&nbsp;WKM.&nbsp;The&nbsp;mean&nbsp;PPI&nbsp;score&nbsp;in&nbsp;group&nbsp;II&nbsp;showed&nbsp;a&nbsp;sign</span></td><td class=\"diff_next\"></td><td class=\"diff_header\">></td><td nowrap=\"nowrap\"><span class=\"diff_add\">ded&nbsp;after&nbsp;a&nbsp;4-month&nbsp;period&nbsp;with&nbsp;two-piece&nbsp;implants.&nbsp;Critical&nbsp;soft&nbsp;tissue&nbsp;paramet</span></td></tr>\n",
       "            <tr><td class=\"diff_next\"></td><td class=\"diff_header\">></td><td nowrap=\"nowrap\"><span class=\"diff_sub\">ificant&nbsp;increase&nbsp;from&nbsp;when&nbsp;compared&nbsp;to&nbsp;group&nbsp;I.</span></td><td class=\"diff_next\"></td><td class=\"diff_header\">></td><td nowrap=\"nowrap\"><span class=\"diff_add\">ers—modified&nbsp;plaque&nbsp;index&nbsp;(mPI),&nbsp;modified&nbsp;bleeding&nbsp;index&nbsp;(mBI),&nbsp;papillary&nbsp;index&nbsp;</span></td></tr>\n",
       "            <tr><td class=\"diff_next\"></td><td class=\"diff_header\"></td><td nowrap=\"nowrap\">&nbsp;</td><td class=\"diff_next\"></td><td class=\"diff_header\">></td><td nowrap=\"nowrap\"><span class=\"diff_add\">(PPI),&nbsp;marginal&nbsp;level&nbsp;of&nbsp;soft&nbsp;tissue&nbsp;(ML),&nbsp;and&nbsp;width&nbsp;of&nbsp;keratinized&nbsp;mucosa&nbsp;(WKM)</span></td></tr>\n",
       "            <tr><td class=\"diff_next\"></td><td class=\"diff_header\"></td><td nowrap=\"nowrap\">&nbsp;</td><td class=\"diff_next\"></td><td class=\"diff_header\">></td><td nowrap=\"nowrap\"><span class=\"diff_add\">—were&nbsp;meticulously&nbsp;recorded&nbsp;at&nbsp;baseline,&nbsp;Day&nbsp;60,&nbsp;Day&nbsp;120,&nbsp;and&nbsp;Day&nbsp;180.</span></td></tr>\n",
       "            <tr><td class=\"diff_next\"></td><td class=\"diff_header\" id=\"from0_11\">11</td><td nowrap=\"nowrap\"></td><td class=\"diff_next\"></td><td class=\"diff_header\" id=\"to0_10\">10</td><td nowrap=\"nowrap\"></td></tr>\n",
       "            <tr><td class=\"diff_next\"><a href=\"#difflib_chg_to0__top\">t</a></td><td class=\"diff_header\" id=\"from0_12\">12</td><td nowrap=\"nowrap\"><span class=\"diff_sub\">ABSTRACT.CONCLUSION:.</span></td><td class=\"diff_next\"><a href=\"#difflib_chg_to0__top\">t</a></td><td class=\"diff_header\" id=\"to0_11\">11</td><td nowrap=\"nowrap\"><span class=\"diff_add\">RESULTS:</span></td></tr>\n",
       "            <tr><td class=\"diff_next\"></td><td class=\"diff_header\" id=\"from0_13\">13</td><td nowrap=\"nowrap\"><span class=\"diff_sub\">The&nbsp;results&nbsp;of&nbsp;this&nbsp;study&nbsp;indicated&nbsp;that&nbsp;flapless&nbsp;implant&nbsp;surgery&nbsp;using&nbsp;either&nbsp;i</span></td><td class=\"diff_next\"></td><td class=\"diff_header\" id=\"to0_12\">12</td><td nowrap=\"nowrap\"><span class=\"diff_add\">The&nbsp;IL&nbsp;group&nbsp;achieved&nbsp;a&nbsp;commendable&nbsp;success&nbsp;rate&nbsp;of&nbsp;80%,&nbsp;suggesting&nbsp;notable&nbsp;viab</span></td></tr>\n",
       "            <tr><td class=\"diff_next\"></td><td class=\"diff_header\">></td><td nowrap=\"nowrap\"><span class=\"diff_sub\">mmediately&nbsp;loading&nbsp;implants&nbsp;or&nbsp;DL&nbsp;implants,&nbsp;demonstrate&nbsp;enhancement&nbsp;of&nbsp;implant&nbsp;e</span></td><td class=\"diff_next\"></td><td class=\"diff_header\">></td><td nowrap=\"nowrap\"><span class=\"diff_add\">ility&nbsp;even&nbsp;with&nbsp;a&nbsp;rapid&nbsp;loading&nbsp;protocol,&nbsp;closely&nbsp;rivaling&nbsp;the&nbsp;DL&nbsp;group’s&nbsp;90%&nbsp;su</span></td></tr>\n",
       "            <tr><td class=\"diff_next\"></td><td class=\"diff_header\">></td><td nowrap=\"nowrap\"><span class=\"diff_sub\">sthetics.</span></td><td class=\"diff_next\"></td><td class=\"diff_header\">></td><td nowrap=\"nowrap\"><span class=\"diff_add\">ccess&nbsp;rate.&nbsp;This&nbsp;commendably&nbsp;close&nbsp;performance&nbsp;underscores&nbsp;the&nbsp;robustness&nbsp;of&nbsp;imm</span></td></tr>\n",
       "            <tr><td class=\"diff_next\"></td><td class=\"diff_header\"></td><td nowrap=\"nowrap\">&nbsp;</td><td class=\"diff_next\"></td><td class=\"diff_header\">></td><td nowrap=\"nowrap\"><span class=\"diff_add\">ediate&nbsp;loading&nbsp;in&nbsp;diverse&nbsp;clinical&nbsp;settings.&nbsp;Although&nbsp;differences&nbsp;in&nbsp;parameters&nbsp;</span></td></tr>\n",
       "            <tr><td class=\"diff_next\"></td><td class=\"diff_header\"></td><td nowrap=\"nowrap\">&nbsp;</td><td class=\"diff_next\"></td><td class=\"diff_header\">></td><td nowrap=\"nowrap\"><span class=\"diff_add\">like&nbsp;mPI,&nbsp;mBI,&nbsp;ML,&nbsp;and&nbsp;WKM&nbsp;were&nbsp;not&nbsp;statistically&nbsp;significant&nbsp;over&nbsp;time,&nbsp;these&nbsp;f</span></td></tr>\n",
       "            <tr><td class=\"diff_next\"></td><td class=\"diff_header\"></td><td nowrap=\"nowrap\">&nbsp;</td><td class=\"diff_next\"></td><td class=\"diff_header\">></td><td nowrap=\"nowrap\"><span class=\"diff_add\">indings&nbsp;highlight&nbsp;the&nbsp;versatility&nbsp;and&nbsp;adaptability&nbsp;of&nbsp;both&nbsp;implant&nbsp;types.&nbsp;Notabl</span></td></tr>\n",
       "            <tr><td class=\"diff_next\"></td><td class=\"diff_header\"></td><td nowrap=\"nowrap\">&nbsp;</td><td class=\"diff_next\"></td><td class=\"diff_header\">></td><td nowrap=\"nowrap\"><span class=\"diff_add\">y,&nbsp;the&nbsp;DL&nbsp;group&nbsp;exhibited&nbsp;a&nbsp;superior&nbsp;mean&nbsp;PPI&nbsp;score,&nbsp;indicating&nbsp;potential&nbsp;benefi</span></td></tr>\n",
       "            <tr><td class=\"diff_next\"></td><td class=\"diff_header\"></td><td nowrap=\"nowrap\">&nbsp;</td><td class=\"diff_next\"></td><td class=\"diff_header\">></td><td nowrap=\"nowrap\"><span class=\"diff_add\">ts&nbsp;in&nbsp;specific&nbsp;soft-tissue&nbsp;outcomes.</span></td></tr>\n",
       "            <tr><td class=\"diff_next\"></td><td class=\"diff_header\"></td><td nowrap=\"nowrap\"></td><td class=\"diff_next\"></td><td class=\"diff_header\" id=\"to0_13\">13</td><td nowrap=\"nowrap\"><span class=\"diff_add\">&nbsp;</span></td></tr>\n",
       "            <tr><td class=\"diff_next\"></td><td class=\"diff_header\"></td><td nowrap=\"nowrap\"></td><td class=\"diff_next\"></td><td class=\"diff_header\" id=\"to0_14\">14</td><td nowrap=\"nowrap\"><span class=\"diff_add\">CONCLUSION:</span></td></tr>\n",
       "            <tr><td class=\"diff_next\"></td><td class=\"diff_header\"></td><td nowrap=\"nowrap\"></td><td class=\"diff_next\"></td><td class=\"diff_header\" id=\"to0_15\">15</td><td nowrap=\"nowrap\"><span class=\"diff_add\">This&nbsp;study&nbsp;underscores&nbsp;that&nbsp;flapless&nbsp;implant&nbsp;surgery,&nbsp;whether&nbsp;employing&nbsp;immediat</span></td></tr>\n",
       "            <tr><td class=\"diff_next\"></td><td class=\"diff_header\"></td><td nowrap=\"nowrap\">&nbsp;</td><td class=\"diff_next\"></td><td class=\"diff_header\">></td><td nowrap=\"nowrap\"><span class=\"diff_add\">ely&nbsp;loading&nbsp;or&nbsp;DL&nbsp;implants,&nbsp;significantly&nbsp;enhances&nbsp;implant&nbsp;esthetics,&nbsp;offering&nbsp;a</span></td></tr>\n",
       "            <tr><td class=\"diff_next\"></td><td class=\"diff_header\"></td><td nowrap=\"nowrap\">&nbsp;</td><td class=\"diff_next\"></td><td class=\"diff_header\">></td><td nowrap=\"nowrap\"><span class=\"diff_add\">&nbsp;versatile&nbsp;and&nbsp;effective&nbsp;approach&nbsp;for&nbsp;improving&nbsp;soft-tissue&nbsp;profiles&nbsp;in&nbsp;dental&nbsp;r</span></td></tr>\n",
       "            <tr><td class=\"diff_next\"></td><td class=\"diff_header\"></td><td nowrap=\"nowrap\">&nbsp;</td><td class=\"diff_next\"></td><td class=\"diff_header\">></td><td nowrap=\"nowrap\"><span class=\"diff_add\">estorations.&nbsp;The&nbsp;findings&nbsp;advocate&nbsp;for&nbsp;the&nbsp;consideration&nbsp;of&nbsp;immediate&nbsp;loading&nbsp;as</span></td></tr>\n",
       "            <tr><td class=\"diff_next\"></td><td class=\"diff_header\"></td><td nowrap=\"nowrap\">&nbsp;</td><td class=\"diff_next\"></td><td class=\"diff_header\">></td><td nowrap=\"nowrap\"><span class=\"diff_add\">&nbsp;a&nbsp;viable,&nbsp;efficient&nbsp;option&nbsp;in&nbsp;suitable&nbsp;patients.</span></td></tr>\n",
       "        </tbody>\n",
       "    </table>"
      ],
      "text/plain": [
       "<IPython.core.display.HTML object>"
      ]
     },
     "metadata": {},
     "output_type": "display_data"
    }
   ],
   "source": [
    "show_diff_between_text(merged_df, 21731251, 'original_abstract', 'gpt4o_test_model_output')"
   ]
  }
 ],
 "metadata": {
  "kernelspec": {
   "display_name": "MedLitSpin",
   "language": "python",
   "name": "python3"
  },
  "language_info": {
   "codemirror_mode": {
    "name": "ipython",
    "version": 3
   },
   "file_extension": ".py",
   "mimetype": "text/x-python",
   "name": "python",
   "nbconvert_exporter": "python",
   "pygments_lexer": "ipython3",
   "version": "3.11.10"
  }
 },
 "nbformat": 4,
 "nbformat_minor": 2
}
