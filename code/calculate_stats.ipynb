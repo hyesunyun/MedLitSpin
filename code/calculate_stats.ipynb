{
 "cells": [
  {
   "cell_type": "markdown",
   "metadata": {},
   "source": [
    "# Jupyter Notebook for Calculating Statistics"
   ]
  },
  {
   "cell_type": "code",
   "execution_count": null,
   "metadata": {},
   "outputs": [],
   "source": [
    "model_metadata = {\n",
    "    \"alpacare-7B\": {\"model_type\": \"clinical/biomedical\", \"model_size_in_b\": 7},\n",
    "    \"alpacare-13B\": {\"model_type\": \"clinical/biomedical\", \"model_size_in_b\": 13},\n",
    "    \"biomedgpt7B\": {\"model_type\": \"clinical/biomedical\", \"model_size_in_b\": 7},\n",
    "    \"biomistral7B\": {\"model_type\": \"clinical/biomedical\", \"model_size_in_b\": 7},\n",
    "    \"claude_3.5-haiku\": {\"model_type\": \"closed/proprietary\", \"model_size_in_b\": None}, # 175?\n",
    "    \"claude_3.5-sonnet\": {\"model_type\": \"closed/proprietary\", \"model_size_in_b\": None}, # 175?\n",
    "    \"gemini_1.5_flash\": {\"model_type\": \"closed/proprietary\", \"model_size_in_b\": None},\n",
    "    \"gemini_1.5_flash-8B\": {\"model_type\": \"closed/proprietary\", \"model_size_in_b\": 8},\n",
    "    \"gpt4o\": {\"model_type\": \"closed/proprietary\", \"model_size_in_b\": None}, # around 1 trillion (1000B)\n",
    "    \"gpt4o-mini\": {\"model_type\": \"closed/proprietary\", \"model_size_in_b\": None}, # 175?\n",
    "    \"gpt35\": {\"model_type\": \"closed/proprietary\", \"model_size_in_b\": 175},\n",
    "    \"llama2_chat-7B\": {\"model_type\": \"open - general\", \"model_size_in_b\": 7},\n",
    "    \"llama2_chat-13B\": {\"model_type\": \"open - general\", \"model_size_in_b\": 13},\n",
    "    \"llama2_chat-70B\": {\"model_type\": \"open - general\", \"model_size_in_b\": 70},\n",
    "    \"llama3_instruct-8B\": {\"model_type\": \"open - general\", \"model_size_in_b\": 8},\n",
    "    \"llama3_instruct-70B\": {\"model_type\": \"open - general\", \"model_size_in_b\": 70},\n",
    "    \"med42-8B\": {\"model_type\": \"clinical/biomedical\", \"model_size_in_b\": 8},\n",
    "    \"med42-70B\": {\"model_type\": \"clinical/biomedical\", \"model_size_in_b\": 70},\n",
    "    \"mistral_instruct7B\": {\"model_type\": \"open - general\", \"model_size_in_b\": 7},\n",
    "    \"olmo2_instruct-7B\": {\"model_type\": \"open - general\", \"model_size_in_b\": 7},\n",
    "    \"olmo2_instruct-13B\": {\"model_type\": \"open - general\", \"model_size_in_b\": 13},\n",
    "    \"openbiollm-8B\": {\"model_type\": \"clinical/biomedical\", \"model_size_in_b\": 8},\n",
    "    \"openbiollm-70B\": {\"model_type\": \"clinical/biomedical\", \"model_size_in_b\": 70}\n",
    "}"
   ]
  },
  {
   "cell_type": "markdown",
   "metadata": {},
   "source": [
    "## Spin Detection Task"
   ]
  },
  {
   "cell_type": "markdown",
   "metadata": {},
   "source": [
    "Average of accuracy, precision, recall, and F1 score by model type"
   ]
  },
  {
   "cell_type": "markdown",
   "metadata": {},
   "source": [
    "## RCT Trial Result Interpretation Task"
   ]
  }
 ],
 "metadata": {
  "kernelspec": {
   "display_name": "MedLitSpin",
   "language": "python",
   "name": "python3"
  },
  "language_info": {
   "name": "python",
   "version": "3.11.10"
  }
 },
 "nbformat": 4,
 "nbformat_minor": 2
}
